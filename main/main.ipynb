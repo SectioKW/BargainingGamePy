{
 "cells": [
  {
   "cell_type": "code",
   "execution_count": null,
   "metadata": {},
   "outputs": [],
   "source": [
    "#Import DO NOT CHANGE\n",
    "# =============================================================================\n",
    "import sys\n",
    "import os\n",
    "\n",
    "sys.path.append(os.path.dirname(os.path.dirname(os.path.abspath('bargaining.ipynb'))))\n",
    "\n",
    "from src.GameClass import Game\n",
    "from src.PlayerClass import Player\n",
    "\n",
    "# ============================================================================="
   ]
  },
  {
   "cell_type": "code",
   "execution_count": null,
   "metadata": {},
   "outputs": [],
   "source": [
    "# Initialize Player\n",
    "\n",
    "player1 = Player(name='player2',negative=True)\n",
    "player1.set_strategy(1,2)\n",
    "\n",
    "player2 = Player(name='player2')\n",
    "player2.set_strategy(2,3)"
   ]
  },
  {
   "cell_type": "code",
   "execution_count": null,
   "metadata": {},
   "outputs": [],
   "source": [
    "game = Game(players = [player1,player2], \n",
    "            latex = False)\n",
    "\n",
    "#set the dissagreement value\n",
    "# 0,0 -> kedua pemain tidak mendapatkan apa-apa\n",
    "game.set_disagreement_value([0,0])"
   ]
  },
  {
   "cell_type": "code",
   "execution_count": null,
   "metadata": {},
   "outputs": [],
   "source": [
    "#Run untuk mendapatkan hasil payoff\n",
    "game.get_payoff()"
   ]
  },
  {
   "cell_type": "code",
   "execution_count": null,
   "metadata": {},
   "outputs": [],
   "source": [
    "#Run untuk mendapatkan Nash Bargaining Solution\n",
    "game.game_nash_solve()"
   ]
  },
  {
   "cell_type": "code",
   "execution_count": null,
   "metadata": {},
   "outputs": [],
   "source": [
    "#Run untuk mendapatkan Rubinstein Bargaining Solution\n",
    "game.game_rubinstein_solve(120)"
   ]
  }
 ],
 "metadata": {
  "language_info": {
   "name": "python"
  }
 },
 "nbformat": 4,
 "nbformat_minor": 2
}
