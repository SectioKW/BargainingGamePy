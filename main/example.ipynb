{
 "cells": [
  {
   "cell_type": "code",
   "execution_count": 1,
   "metadata": {},
   "outputs": [],
   "source": [
    "#Import DO NOT CHANGE\n",
    "# =============================================================================\n",
    "import sys\n",
    "import os\n",
    "\n",
    "sys.path.append(os.path.dirname(os.path.dirname(os.path.abspath('bargaining.ipynb'))))\n",
    "\n",
    "from src.GameClass import Game\n",
    "from src.PlayerClass import Player\n",
    "\n",
    "# ============================================================================="
   ]
  },
  {
   "cell_type": "code",
   "execution_count": 2,
   "metadata": {},
   "outputs": [],
   "source": [
    "# Initialize Player\n",
    "\n",
    "toko = Player(name='Toko',disc_factor=.94,negative=True)\n",
    "toko.set_strategy(23000,25000)\n",
    "\n",
    "supplier = Player(name='Supplier',disc_factor=.97)\n",
    "supplier.set_strategy(22000,28000)"
   ]
  },
  {
   "cell_type": "code",
   "execution_count": 3,
   "metadata": {},
   "outputs": [],
   "source": [
    "game = Game(players = [supplier,toko], \n",
    "            latex = False)\n",
    "\n",
    "#set the dissagreement value\n",
    "# 0,0 -> kedua pemain tidak mendapatkan apa-apa\n",
    "game.set_disagreement_value([0,0])"
   ]
  },
  {
   "cell_type": "code",
   "execution_count": 4,
   "metadata": {},
   "outputs": [
    {
     "name": "stdout",
     "output_type": "stream",
     "text": [
      "Payoff Matrix:\n",
      "\\begin{tabular}{lll}\n",
      "\\hline\n",
      "             & Toko: A         & Toko: B         \\\\\n",
      "\\hline\n",
      " Supplier: A & [28000, -23000] & [28000, -25000] \\\\\n",
      " Supplier: B & [22000, -23000] & [22000, -25000] \\\\\n",
      "\\hline\n",
      "\\end{tabular}\n"
     ]
    }
   ],
   "source": [
    "game.get_payoff()"
   ]
  },
  {
   "cell_type": "code",
   "execution_count": 5,
   "metadata": {},
   "outputs": [
    {
     "name": "stdout",
     "output_type": "stream",
     "text": [
      "Game Value Matrix:\n",
      "\\begin{tabular}{lrr}\n",
      "\\hline\n",
      "             &   Toko: A &   Toko: B \\\\\n",
      "\\hline\n",
      " Supplier: A &      5000 &      3000 \\\\\n",
      " Supplier: B &     -1000 &     -3000 \\\\\n",
      "\\hline\n",
      "\\end{tabular}\n",
      "Disagreement Value: Supplier = 0 || Toko = 0\n"
     ]
    }
   ],
   "source": [
    "game.get_game_payoff()"
   ]
  },
  {
   "cell_type": "code",
   "execution_count": 6,
   "metadata": {},
   "outputs": [
    {
     "name": "stdout",
     "output_type": "stream",
     "text": [
      "Game Value Matrix:\n",
      "\\begin{tabular}{lrr}\n",
      "\\hline\n",
      "             &   Toko: A &   Toko: B \\\\\n",
      "\\hline\n",
      " Supplier: A &      5000 &      3000 \\\\\n",
      " Supplier: B &     -1000 &     -3000 \\\\\n",
      "\\hline\n",
      "\\end{tabular}\n",
      "Disagreement Value: Supplier = 0 || Toko = 0\n",
      "Bargaining Solution:\n",
      "Pada awal penawaran, Supplier dan Toko menggunakan strategi dengan nilai tertinggi\n",
      "\\begin{equation}\n",
      "s = 5000\n",
      "\\end{equation}\n",
      "\n",
      "\\begin{equation}\n",
      "y = 3000\n",
      "x = 5000-3000\n",
      "x = 2000\n",
      "\\end{equation}\n",
      "\n",
      "Nash Bargaining Solution:\n",
      "\\begin{equation}\n",
      "(x/s), (y/s) = 0.400 , 0.600\n",
      "\\end{equation}\n"
     ]
    }
   ],
   "source": [
    "game.game_nash_solve()"
   ]
  },
  {
   "cell_type": "code",
   "execution_count": 7,
   "metadata": {},
   "outputs": [
    {
     "name": "stdout",
     "output_type": "stream",
     "text": [
      "Rubinstein Bargaining Model\n",
      "\\begin{tabular}{rrr}\n",
      "\\hline\n",
      "   Round &   Buyer Offer &   Seller Offer \\\\\n",
      "\\hline\n",
      "       1 &           180 &           2910 \\\\\n",
      "       2 &           360 &           2820 \\\\\n",
      "       3 &           540 &           2730 \\\\\n",
      "       4 &           720 &           2640 \\\\\n",
      "       5 &           900 &           2550 \\\\\n",
      "       6 &          1080 &           2460 \\\\\n",
      "       7 &          1260 &           2370 \\\\\n",
      "       8 &          1440 &           2280 \\\\\n",
      "       9 &          1620 &           2190 \\\\\n",
      "      10 &          1800 &           2100 \\\\\n",
      "      11 &          1980 &           2010 \\\\\n",
      "      12 &          2160 &           1920 \\\\\n",
      "\\hline\n",
      "\\end{tabular}\n",
      "Final Offer: Supplier : 1920.0 || Toko : 2160.0\n"
     ]
    }
   ],
   "source": [
    "game.game_rubinstein_solve(120)"
   ]
  },
  {
   "cell_type": "code",
   "execution_count": null,
   "metadata": {},
   "outputs": [],
   "source": []
  }
 ],
 "metadata": {
  "kernelspec": {
   "display_name": ".venv",
   "language": "python",
   "name": "python3"
  },
  "language_info": {
   "codemirror_mode": {
    "name": "ipython",
    "version": 3
   },
   "file_extension": ".py",
   "mimetype": "text/x-python",
   "name": "python",
   "nbconvert_exporter": "python",
   "pygments_lexer": "ipython3",
   "version": "3.9.13"
  }
 },
 "nbformat": 4,
 "nbformat_minor": 2
}
